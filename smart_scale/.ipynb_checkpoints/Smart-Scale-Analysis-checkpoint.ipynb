{
 "cells": [
  {
   "cell_type": "markdown",
   "metadata": {},
   "source": [
    "# A Statistical Analysis of Smart Scale Projects in Virginia\n",
    "\n",
    "#### Christopher Garcia, University of Mary Washington\n",
    "\n",
    "## I. Introduction\n",
    "\n",
    "The Virginia Smart Scale methodology was finalized in November 2017 in order to provide an objective scoring system for the state's transportation projects competing for funding. The complete technical specification of the Smart Scale methodology can be found in the November 2017 technical guide, found here: [http://vasmartscale.org/documents/20171115/ss_technical_guide_nov13_2017.pdf](http://vasmartscale.org/documents/20171115/ss_technical_guide_nov13_2017.pdf).\n",
    "\n",
    "The purpose of this analysis is to 1) provide some descriptive statistics of recently funded projects, and 2) to independently assess whether the Smart Scale scores (SSS) assigned to these projects were consistent with the Smart Scale methodology specified in the technical guide. This analysis uses a dataset provided by the Fredericksburg Area Metropolitan Planning Organization (FAMPO), containing data on 404 projects. This analysis uses the R statistical computing environment within a Jupyter notebook. This allows the analysis to be both explained as well as executed and allows complete transparancy of the analytical methodology. This removes any ambiguity and also guarantees reproducibility of the results.\n",
    "\n",
    "## II. Data Inspection and Preparation\n",
    "\n",
    "The data was provided in a Microsoft Excel spreadsheet. This was first converted to a CSV file (ss-data.csv) and then a number of transformation processes were applied to clean and scale the data as well as to impute missing values. To begin, we first define several functions which will be used in the data transformation:"
   ]
  },
  {
   "cell_type": "code",
   "execution_count": 2,
   "metadata": {},
   "outputs": [],
   "source": [
    "# Turn off verbose output messages.\n",
    "options(warn=0)\n",
    "\n",
    "# Include all libraries that will be used in this notebook's code\n",
    "library(restriktor) # Used for constrained regression\n",
    "library(ggplot2)\n",
    "\n",
    "# Given a vector, a vector of original values, and a corresponding vector of \n",
    "# replacement values, apply the replacements and return the transformed vector.\n",
    "recode <- function(vec, from.vals, to.vals) {\n",
    "    f = function(v) {\n",
    "        for(i in 1:length(from.vals)) {\n",
    "            if(v == from.vals[i]) { return(to.vals[i]) }\n",
    "        }\n",
    "        return(v)\n",
    "    }\n",
    "    return(sapply(as.vector(vec), f))\n",
    "}\n",
    "\n",
    "# Function for imputing mean of a vector to its missing values.\n",
    "impute.mean <- function(vec) {\n",
    "    vec[is.na(vec)] = mean(vec, na.rm=TRUE)\n",
    "    vec\n",
    "}\n",
    "\n",
    "# Function for imputing value of 0 to each missing value in the vector.\n",
    "impute.0 <- function(vec) {\n",
    "    vec[is.na(vec)] = 0\n",
    "    vec\n",
    "}"
   ]
  },
  {
   "cell_type": "markdown",
   "metadata": {},
   "source": [
    "Next we read in the dataset and inspect the first few rows of data:"
   ]
  },
  {
   "cell_type": "code",
   "execution_count": 3,
   "metadata": {},
   "outputs": [
    {
     "data": {
      "text/html": [
       "<table>\n",
       "<thead><tr><th scope=col>App.Id</th><th scope=col>Area.Type</th><th scope=col>District</th><th scope=col>Organization.Name</th><th scope=col>Project.Title</th><th scope=col>Statewide.High.Priority</th><th scope=col>District.Grant</th><th scope=col>Throughput.Score</th><th scope=col>Delay.Score</th><th scope=col>Crash.Frequency.Score</th><th scope=col>...</th><th scope=col>Travel.Time.Reliability.Score</th><th scope=col>Land.Use.Score</th><th scope=col>Project.Benefit.Score</th><th scope=col>Total.Project</th><th scope=col>Score.Divided.by.Total.Cost</th><th scope=col>SMART.SCALE.Request</th><th scope=col>SMART.SCALE.Score</th><th scope=col>Benefit.Rank</th><th scope=col>State.Rank</th><th scope=col>District.Rank</th></tr></thead>\n",
       "<tbody>\n",
       "\t<tr><td>1414                                                        </td><td>A                                                           </td><td>NOVA                                                        </td><td>Northern Virginia Transportation Commission                 </td><td>VRE Fredericksburg Line Capacity Expansion                  </td><td>x                                                           </td><td>                                                            </td><td>17.69                                                       </td><td>87.66                                                       </td><td>100                                                         </td><td>...                                                         </td><td> -                                                          </td><td>64.016                                                      </td><td>64.236                                                      </td><td>216034920                                                   </td><td>2.973                                                       </td><td> 92636120                                                   </td><td>6.934                                                       </td><td>1                                                           </td><td>109                                                         </td><td>16                                                          </td></tr>\n",
       "\t<tr><td>1057                                                        </td><td>A                                                           </td><td>Hampton Roads                                               </td><td>Hampton Roads Transportation Planning Organization          </td><td>I-64 Southside Widening and High Rise Bridge - Phase 1      </td><td>x                                                           </td><td>                                                            </td><td>100                                                         </td><td>88.96                                                       </td><td>45.16                                                       </td><td>...                                                         </td><td>29.044                                                      </td><td>10.464                                                      </td><td>62.042                                                      </td><td>600000000                                                   </td><td>1.034                                                       </td><td>100000000                                                   </td><td>6.204                                                       </td><td>2                                                           </td><td>120                                                         </td><td>22                                                          </td></tr>\n",
       "\t<tr><td>1090                                                        </td><td>A                                                           </td><td>Hampton Roads                                               </td><td>Hampton Roads Transportation Planning Organization          </td><td>I-64/I-264 Interchange Improvements                         </td><td>x                                                           </td><td>                                                            </td><td>60.61                                                       </td><td>53.86                                                       </td><td> -                                                          </td><td>...                                                         </td><td>24.245                                                      </td><td>31.671                                                      </td><td>48.747                                                      </td><td>350091800                                                   </td><td>1.392                                                       </td><td> 50000000                                                   </td><td>9.749                                                       </td><td>3                                                           </td><td> 79                                                         </td><td>18                                                          </td></tr>\n",
       "\t<tr><td>1293                                                        </td><td>A                                                           </td><td>NOVA                                                        </td><td>Prince William County                                       </td><td>Route 234 At Balls Ford Intrchng and Rel/Widen Balls Ford Rd</td><td>x                                                           </td><td>x                                                           </td><td>65.48                                                       </td><td>100                                                         </td><td>15.61                                                       </td><td>...                                                         </td><td>1.05                                                        </td><td> -                                                          </td><td>41.289                                                      </td><td>126027000                                                   </td><td>3.276                                                       </td><td>124027000                                                   </td><td>3.329                                                       </td><td>4                                                           </td><td>170                                                         </td><td>30                                                          </td></tr>\n",
       "\t<tr><td>1249                                                        </td><td>A                                                           </td><td>NOVA                                                        </td><td>Fairfax County                                              </td><td>VA 286 - Popes Head Road Interchange                        </td><td>x                                                           </td><td>x                                                           </td><td>61.09                                                       </td><td>54.17                                                       </td><td>8.22                                                        </td><td>...                                                         </td><td>0.118                                                       </td><td> -                                                          </td><td>37.194                                                      </td><td> 64303070                                                   </td><td>5.784                                                       </td><td> 50558370                                                   </td><td>7.357                                                       </td><td>5                                                           </td><td>101                                                         </td><td>14                                                          </td></tr>\n",
       "\t<tr><td>1240                                                        </td><td>A                                                           </td><td>NOVA                                                        </td><td>Loudoun County                                              </td><td>Loudoun County Parkway (Shellhorn Road to US Route 50)      </td><td>x                                                           </td><td>x                                                           </td><td>45.27                                                       </td><td>69.78                                                       </td><td>5.43                                                        </td><td>...                                                         </td><td>1.6                                                         </td><td>16.364                                                      </td><td>33.732                                                      </td><td>112053000                                                   </td><td>3.01                                                        </td><td>112053000                                                   </td><td>3.01                                                        </td><td>6                                                           </td><td>179                                                         </td><td>32                                                          </td></tr>\n",
       "</tbody>\n",
       "</table>\n"
      ],
      "text/latex": [
       "\\begin{tabular}{r|llllllllllllllllllllllllllll}\n",
       " App.Id & Area.Type & District & Organization.Name & Project.Title & Statewide.High.Priority & District.Grant & Throughput.Score & Delay.Score & Crash.Frequency.Score & ... & Travel.Time.Reliability.Score & Land.Use.Score & Project.Benefit.Score & Total.Project & Score.Divided.by.Total.Cost & SMART.SCALE.Request & SMART.SCALE.Score & Benefit.Rank & State.Rank & District.Rank\\\\\n",
       "\\hline\n",
       "\t 1414                                                         & A                                                            & NOVA                                                         & Northern Virginia Transportation Commission                  & VRE Fredericksburg Line Capacity Expansion                   & x                                                            &                                                              & 17.69                                                        & 87.66                                                        & 100                                                          & ...                                                          &  -                                                           & 64.016                                                       & 64.236                                                       & 216034920                                                    & 2.973                                                        &  92636120                                                    & 6.934                                                        & 1                                                            & 109                                                          & 16                                                          \\\\\n",
       "\t 1057                                                         & A                                                            & Hampton Roads                                                & Hampton Roads Transportation Planning Organization           & I-64 Southside Widening and High Rise Bridge - Phase 1       & x                                                            &                                                              & 100                                                          & 88.96                                                        & 45.16                                                        & ...                                                          & 29.044                                                       & 10.464                                                       & 62.042                                                       & 600000000                                                    & 1.034                                                        & 100000000                                                    & 6.204                                                        & 2                                                            & 120                                                          & 22                                                          \\\\\n",
       "\t 1090                                                         & A                                                            & Hampton Roads                                                & Hampton Roads Transportation Planning Organization           & I-64/I-264 Interchange Improvements                          & x                                                            &                                                              & 60.61                                                        & 53.86                                                        &  -                                                           & ...                                                          & 24.245                                                       & 31.671                                                       & 48.747                                                       & 350091800                                                    & 1.392                                                        &  50000000                                                    & 9.749                                                        & 3                                                            &  79                                                          & 18                                                          \\\\\n",
       "\t 1293                                                         & A                                                            & NOVA                                                         & Prince William County                                        & Route 234 At Balls Ford Intrchng and Rel/Widen Balls Ford Rd & x                                                            & x                                                            & 65.48                                                        & 100                                                          & 15.61                                                        & ...                                                          & 1.05                                                         &  -                                                           & 41.289                                                       & 126027000                                                    & 3.276                                                        & 124027000                                                    & 3.329                                                        & 4                                                            & 170                                                          & 30                                                          \\\\\n",
       "\t 1249                                                         & A                                                            & NOVA                                                         & Fairfax County                                               & VA 286 - Popes Head Road Interchange                         & x                                                            & x                                                            & 61.09                                                        & 54.17                                                        & 8.22                                                         & ...                                                          & 0.118                                                        &  -                                                           & 37.194                                                       &  64303070                                                    & 5.784                                                        &  50558370                                                    & 7.357                                                        & 5                                                            & 101                                                          & 14                                                          \\\\\n",
       "\t 1240                                                         & A                                                            & NOVA                                                         & Loudoun County                                               & Loudoun County Parkway (Shellhorn Road to US Route 50)       & x                                                            & x                                                            & 45.27                                                        & 69.78                                                        & 5.43                                                         & ...                                                          & 1.6                                                          & 16.364                                                       & 33.732                                                       & 112053000                                                    & 3.01                                                         & 112053000                                                    & 3.01                                                         & 6                                                            & 179                                                          & 32                                                          \\\\\n",
       "\\end{tabular}\n"
      ],
      "text/markdown": [
       "\n",
       "App.Id | Area.Type | District | Organization.Name | Project.Title | Statewide.High.Priority | District.Grant | Throughput.Score | Delay.Score | Crash.Frequency.Score | ... | Travel.Time.Reliability.Score | Land.Use.Score | Project.Benefit.Score | Total.Project | Score.Divided.by.Total.Cost | SMART.SCALE.Request | SMART.SCALE.Score | Benefit.Rank | State.Rank | District.Rank | \n",
       "|---|---|---|---|---|---|\n",
       "| 1414                                                         | A                                                            | NOVA                                                         | Northern Virginia Transportation Commission                  | VRE Fredericksburg Line Capacity Expansion                   | x                                                            |                                                              | 17.69                                                        | 87.66                                                        | 100                                                          | ...                                                          |  -                                                           | 64.016                                                       | 64.236                                                       | 216034920                                                    | 2.973                                                        |  92636120                                                    | 6.934                                                        | 1                                                            | 109                                                          | 16                                                           | \n",
       "| 1057                                                         | A                                                            | Hampton Roads                                                | Hampton Roads Transportation Planning Organization           | I-64 Southside Widening and High Rise Bridge - Phase 1       | x                                                            |                                                              | 100                                                          | 88.96                                                        | 45.16                                                        | ...                                                          | 29.044                                                       | 10.464                                                       | 62.042                                                       | 600000000                                                    | 1.034                                                        | 100000000                                                    | 6.204                                                        | 2                                                            | 120                                                          | 22                                                           | \n",
       "| 1090                                                         | A                                                            | Hampton Roads                                                | Hampton Roads Transportation Planning Organization           | I-64/I-264 Interchange Improvements                          | x                                                            |                                                              | 60.61                                                        | 53.86                                                        |  -                                                           | ...                                                          | 24.245                                                       | 31.671                                                       | 48.747                                                       | 350091800                                                    | 1.392                                                        |  50000000                                                    | 9.749                                                        | 3                                                            |  79                                                          | 18                                                           | \n",
       "| 1293                                                         | A                                                            | NOVA                                                         | Prince William County                                        | Route 234 At Balls Ford Intrchng and Rel/Widen Balls Ford Rd | x                                                            | x                                                            | 65.48                                                        | 100                                                          | 15.61                                                        | ...                                                          | 1.05                                                         |  -                                                           | 41.289                                                       | 126027000                                                    | 3.276                                                        | 124027000                                                    | 3.329                                                        | 4                                                            | 170                                                          | 30                                                           | \n",
       "| 1249                                                         | A                                                            | NOVA                                                         | Fairfax County                                               | VA 286 - Popes Head Road Interchange                         | x                                                            | x                                                            | 61.09                                                        | 54.17                                                        | 8.22                                                         | ...                                                          | 0.118                                                        |  -                                                           | 37.194                                                       |  64303070                                                    | 5.784                                                        |  50558370                                                    | 7.357                                                        | 5                                                            | 101                                                          | 14                                                           | \n",
       "| 1240                                                         | A                                                            | NOVA                                                         | Loudoun County                                               | Loudoun County Parkway (Shellhorn Road to US Route 50)       | x                                                            | x                                                            | 45.27                                                        | 69.78                                                        | 5.43                                                         | ...                                                          | 1.6                                                          | 16.364                                                       | 33.732                                                       | 112053000                                                    | 3.01                                                         | 112053000                                                    | 3.01                                                         | 6                                                            | 179                                                          | 32                                                           | \n",
       "\n",
       "\n"
      ],
      "text/plain": [
       "  App.Id Area.Type District     \n",
       "1 1414   A         NOVA         \n",
       "2 1057   A         Hampton Roads\n",
       "3 1090   A         Hampton Roads\n",
       "4 1293   A         NOVA         \n",
       "5 1249   A         NOVA         \n",
       "6 1240   A         NOVA         \n",
       "  Organization.Name                                 \n",
       "1 Northern Virginia Transportation Commission       \n",
       "2 Hampton Roads Transportation Planning Organization\n",
       "3 Hampton Roads Transportation Planning Organization\n",
       "4 Prince William County                             \n",
       "5 Fairfax County                                    \n",
       "6 Loudoun County                                    \n",
       "  Project.Title                                               \n",
       "1 VRE Fredericksburg Line Capacity Expansion                  \n",
       "2 I-64 Southside Widening and High Rise Bridge - Phase 1      \n",
       "3 I-64/I-264 Interchange Improvements                         \n",
       "4 Route 234 At Balls Ford Intrchng and Rel/Widen Balls Ford Rd\n",
       "5 VA 286 - Popes Head Road Interchange                        \n",
       "6 Loudoun County Parkway (Shellhorn Road to US Route 50)      \n",
       "  Statewide.High.Priority District.Grant Throughput.Score Delay.Score\n",
       "1 x                                      17.69            87.66      \n",
       "2 x                                      100              88.96      \n",
       "3 x                                      60.61            53.86      \n",
       "4 x                       x              65.48            100        \n",
       "5 x                       x              61.09            54.17      \n",
       "6 x                       x              45.27            69.78      \n",
       "  Crash.Frequency.Score ... Travel.Time.Reliability.Score Land.Use.Score\n",
       "1 100                   ...  -                            64.016        \n",
       "2 45.16                 ... 29.044                        10.464        \n",
       "3  -                    ... 24.245                        31.671        \n",
       "4 15.61                 ... 1.05                           -            \n",
       "5 8.22                  ... 0.118                          -            \n",
       "6 5.43                  ... 1.6                           16.364        \n",
       "  Project.Benefit.Score Total.Project Score.Divided.by.Total.Cost\n",
       "1 64.236                216034920     2.973                      \n",
       "2 62.042                600000000     1.034                      \n",
       "3 48.747                350091800     1.392                      \n",
       "4 41.289                126027000     3.276                      \n",
       "5 37.194                 64303070     5.784                      \n",
       "6 33.732                112053000     3.01                       \n",
       "  SMART.SCALE.Request SMART.SCALE.Score Benefit.Rank State.Rank District.Rank\n",
       "1  92636120           6.934             1            109        16           \n",
       "2 100000000           6.204             2            120        22           \n",
       "3  50000000           9.749             3             79        18           \n",
       "4 124027000           3.329             4            170        30           \n",
       "5  50558370           7.357             5            101        14           \n",
       "6 112053000           3.01              6            179        32           "
      ]
     },
     "metadata": {},
     "output_type": "display_data"
    }
   ],
   "source": [
    "data <- read.csv('ss-data.csv')\n",
    "head(data)"
   ]
  },
  {
   "cell_type": "markdown",
   "metadata": {},
   "source": [
    "In the technical guide (Table 4.2, p. 36) there are six major factors used to compute the Smart Scale score, which are themselves calculated from more basic measurements:\n",
    "\n",
    "1. Congestion Mitigation\n",
    "2. Economic Development\n",
    "3. Accessibility\n",
    "4. Safety\n",
    "5. Environmental Quality\n",
    "6. Land Use\n",
    "\n",
    "Of these six factors only Land Use is directly given in the dataset. All other major metrics are calculated from their basic constituent measurements as specified on pages 27-31. Within the data there are four area types: A, B, C, and D. Each of these area types has a unique factor weighting that results in its Smart Scale Score. These weightings are specified for each area in Table 4.2 on page 36 within the technical guide. It is noted that for areas C and D, the Land Use factor is not used (or equivalently, carries 0% weight). Upon inspection of the whole dataset it was apparent that this was represented by empty cells for projects falling within these areas. Accordingly, all such Land Use values are set to 0. By this precedent it also is taken that all empty cells in numeric columns correspond to zero. Accordingly, a value of zero is imputed to all empty cells.\n",
    "\n",
    "Based upon this, the following basic transformations are made to the data prior to analysis:\n",
    "\n",
    "* All columns with present/absent markers (x and no x) are recoded to 1 and 0, respectively. This converts them into a numeric equivalent (called binarization).\n",
    "\n",
    "* All empty cells in basic constituent measurement columns (which are used in calculating the factors) are changed to zero.\n",
    "\n",
    "* All empty cells in the Land Use column are changed to zero.\n",
    "\n",
    "This is done as follows:"
   ]
  },
  {
   "cell_type": "code",
   "execution_count": 24,
   "metadata": {},
   "outputs": [],
   "source": [
    "# Clean and recode numeric columns.\n",
    "numeric.columns <- colnames(data)[8:ncol(data)]\n",
    "for(col in numeric.columns) {\n",
    "    data[[col]] <- as.numeric(as.character(data[[col]]))\n",
    "}\n",
    "\n",
    "# Impute 0 to all missing Land.Use.Score values, since area types C and D don't use it.\n",
    "data[[20]] <- imputer.f(data[[20]])\n",
    "\n",
    "imputer.f <- impute.0 # Missing value imputation function - can change if needed\n",
    "\n",
    "# Properly binarize binary columns.\n",
    "#data$Statewide.High.Priority <- as.numeric(sapply(data$Statewide.High.Priority, function(x){if(x == 'x') return(1); return(0);}))\n",
    "#data$District.Grant <- as.numeric(sapply(data$District.Grant, function(x){if(x == 'x') return(1); return(0);}))\n"
   ]
  },
  {
   "cell_type": "markdown",
   "metadata": {},
   "source": [
    "Before imputing zeros to empty cells, it may be instructive to inspect the percentages of empty cells in the numeric colums. We do this below."
   ]
  },
  {
   "cell_type": "code",
   "execution_count": 25,
   "metadata": {},
   "outputs": [
    {
     "name": "stderr",
     "output_type": "stream",
     "text": [
      "Percent Missing Values for Column  Throughput.Score :  0\n",
      "Percent Missing Values for Column  Delay.Score :  0\n",
      "Percent Missing Values for Column  Crash.Frequency.Score :  0\n",
      "Percent Missing Values for Column  Crash.Rate.Score :  0\n",
      "Percent Missing Values for Column  Access.to.Jobs :  0\n",
      "Percent Missing Values for Column  Disadvantaged.Access.to.Jobs :  0\n",
      "Percent Missing Values for Column  Multimodal.Access.Score :  0\n",
      "Percent Missing Values for Column  Air.Quality.Score :  0\n",
      "Percent Missing Values for Column  Enviro.Impact.Score :  0\n",
      "Percent Missing Values for Column  Econ.Dev.Support.Score :  0\n",
      "Percent Missing Values for Column  Intermodal.Access.Score :  0\n",
      "Percent Missing Values for Column  Travel.Time.Reliability.Score :  0\n"
     ]
    }
   ],
   "source": [
    "# Impute missing values to component scores and print out the percent missing in each column.\n",
    "for(i in 8:19) {\n",
    "    message(paste('Percent Missing Values for Column ', colnames(data)[i], ': ', round(100*(1 - (length(sort(data[[i]]))/nrow(data))), 2)))\n",
    "    data[[i]] <- imputer.f(data[[i]])\n",
    "}"
   ]
  },
  {
   "cell_type": "markdown",
   "metadata": {},
   "source": [
    "In the output above, the percentage of missing values in the basic constituent measurement columns ranges from 1% (Enviro.Impact.Score) to 60% (Intermodal.Access.Score).\n",
    "\n",
    "## III. Data Exploration\n",
    "\n",
    "In this section we explore the data further using descriptive statistics to provide several characterizations. We begin by looking at the overall distribution of Smart Scale Scores (SSS) ordered from least to greatest:\n"
   ]
  },
  {
   "cell_type": "code",
   "execution_count": 49,
   "metadata": {},
   "outputs": [
    {
     "data": {
      "image/png": "[encoded data removed]",
      "text/plain": [
       "Plot with title \"Fig. 1: Smart Scale Scores (Ordered)\""
      ]
     },
     "metadata": {},
     "output_type": "display_data"
    }
   ],
   "source": [
    "plot(1:length(sort(data$SMART.SCALE.Score)), sort(data$SMART.SCALE.Score), col='blue', pch=16, \n",
    "     xlab='Rank', ylab='Smart Scale Score', main='Fig. 1: Smart Scale Scores (Ordered)')"
   ]
  },
  {
   "cell_type": "markdown",
   "metadata": {},
   "source": [
    "In Fig. 1 above, the SSS's appear to follow a power law, with a long tail on the left and a relatively small number of projects having extreme scores. The distribution of scores clearly does not follow a linear pattern. Accordingly, because only a very small number of projects exceed a SSS of 50, we will truncate all subsequent visualizations at 30 to allow the variation in non-outliers to be clearly seen.\n",
    "\n",
    "To drill down further, we look at the distribution of Smart Scale Scores by area type and district. We begin with area type, looking at the number of projects within each of the four area types together with their average smart scale scores:"
   ]
  },
  {
   "cell_type": "code",
   "execution_count": 41,
   "metadata": {},
   "outputs": [
    {
     "data": {
      "text/html": [
       "<table>\n",
       "<thead><tr><th scope=col>Area</th><th scope=col>Num_Projects</th><th scope=col>Mean_Smart_Scale_Score</th><th scope=col>Median_Smart_Scale_Score</th></tr></thead>\n",
       "<tbody>\n",
       "\t<tr><td>A        </td><td>114      </td><td>16.287246</td><td>2.9795   </td></tr>\n",
       "\t<tr><td>B        </td><td> 88      </td><td> 8.776795</td><td>4.3685   </td></tr>\n",
       "\t<tr><td>C        </td><td> 86      </td><td> 6.330753</td><td>2.0190   </td></tr>\n",
       "\t<tr><td>D        </td><td>116      </td><td> 8.118219</td><td>1.5150   </td></tr>\n",
       "</tbody>\n",
       "</table>\n"
      ],
      "text/latex": [
       "\\begin{tabular}{r|llll}\n",
       " Area & Num\\_Projects & Mean\\_Smart\\_Scale\\_Score & Median\\_Smart\\_Scale\\_Score\\\\\n",
       "\\hline\n",
       "\t A         & 114       & 16.287246 & 2.9795   \\\\\n",
       "\t B         &  88       &  8.776795 & 4.3685   \\\\\n",
       "\t C         &  86       &  6.330753 & 2.0190   \\\\\n",
       "\t D         & 116       &  8.118219 & 1.5150   \\\\\n",
       "\\end{tabular}\n"
      ],
      "text/markdown": [
       "\n",
       "Area | Num_Projects | Mean_Smart_Scale_Score | Median_Smart_Scale_Score | \n",
       "|---|---|---|---|\n",
       "| A         | 114       | 16.287246 | 2.9795    | \n",
       "| B         |  88       |  8.776795 | 4.3685    | \n",
       "| C         |  86       |  6.330753 | 2.0190    | \n",
       "| D         | 116       |  8.118219 | 1.5150    | \n",
       "\n",
       "\n"
      ],
      "text/plain": [
       "  Area Num_Projects Mean_Smart_Scale_Score Median_Smart_Scale_Score\n",
       "1 A    114          16.287246              2.9795                  \n",
       "2 B     88           8.776795              4.3685                  \n",
       "3 C     86           6.330753              2.0190                  \n",
       "4 D    116           8.118219              1.5150                  "
      ]
     },
     "metadata": {},
     "output_type": "display_data"
    }
   ],
   "source": [
    "dt1 <- data.frame(table(data$Area.Type))\n",
    "m1 <- data.frame(aggregate(data$SMART.SCALE.Score ~ data$Area.Type, FUN=mean))\n",
    "mm1 <- data.frame(aggregate(data$SMART.SCALE.Score ~ data$Area.Type, FUN=median))\n",
    "dt1 <- cbind(dt1, m1$data.SMART.SCALE.Score, mm1$data.SMART.SCALE.Score)\n",
    "colnames(dt1) <- c('Area', 'Num_Projects', 'Mean_Smart_Scale_Score', 'Median_Smart_Scale_Score')\n",
    "dt1"
   ]
  },
  {
   "cell_type": "markdown",
   "metadata": {},
   "source": [
    "By comparing the mean SSS to the medians, it is apparant that the few high-scoring projects significantly inflate the means. Below we look more closely at the spread of the SSS by area type (truncated at 30, as discussed above):"
   ]
  },
  {
   "cell_type": "code",
   "execution_count": 45,
   "metadata": {},
   "outputs": [
    {
     "data": {
      "image/png": "[encoded data removed]",
      "text/plain": [
       "Plot with title \"Fig. 2: Smart Scale Score Distribution by Area Type\""
      ]
     },
     "metadata": {},
     "output_type": "display_data"
    }
   ],
   "source": [
    "boxplot(SMART.SCALE.Score~Area.Type,data=data, main=\"Fig. 2: Smart Scale Score Distribution by Area Type\",\n",
    "        xlab=\"Area Type\", ylab=\"Smart Scale Score\", ylim=c(0, 30), col=\"yellow\") "
   ]
  },
  {
   "cell_type": "markdown",
   "metadata": {},
   "source": [
    "In Fig. 2 above, area type A has the greatest amount of variance while area type D has the least. Area types C and D have similar distribution profiles, with area type D having the lowest overall median.\n",
    "\n",
    "Below we shift our perspective to look at SSS with respect to district. We begin with a basic summarization of scores by district:"
   ]
  },
  {
   "cell_type": "code",
   "execution_count": 46,
   "metadata": {},
   "outputs": [
    {
     "data": {
      "text/html": [
       "<table>\n",
       "<thead><tr><th scope=col>District</th><th scope=col>Num_Projects</th><th scope=col>Mean_Smart_Scale_Score</th><th scope=col>Median_Smart_Scale_Score</th></tr></thead>\n",
       "<tbody>\n",
       "\t<tr><td>Bristol       </td><td>42            </td><td> 1.189049     </td><td>0.5170        </td></tr>\n",
       "\t<tr><td>Culpeper      </td><td>35            </td><td> 3.597029     </td><td>2.1690        </td></tr>\n",
       "\t<tr><td>Fredericksburg</td><td>25            </td><td> 8.902320     </td><td>1.8640        </td></tr>\n",
       "\t<tr><td>Hampton Roads </td><td>52            </td><td>23.536212     </td><td>2.0735        </td></tr>\n",
       "\t<tr><td>Lynchburg     </td><td>28            </td><td> 9.429893     </td><td>1.7990        </td></tr>\n",
       "\t<tr><td>NOVA          </td><td>58            </td><td>11.844241     </td><td>3.3630        </td></tr>\n",
       "\t<tr><td>Richmond      </td><td>72            </td><td> 7.878069     </td><td>3.2880        </td></tr>\n",
       "\t<tr><td>Salem         </td><td>50            </td><td>10.706229     </td><td>2.8460        </td></tr>\n",
       "\t<tr><td>Staunton      </td><td>42            </td><td>10.463905     </td><td>2.7075        </td></tr>\n",
       "</tbody>\n",
       "</table>\n"
      ],
      "text/latex": [
       "\\begin{tabular}{r|llll}\n",
       " District & Num\\_Projects & Mean\\_Smart\\_Scale\\_Score & Median\\_Smart\\_Scale\\_Score\\\\\n",
       "\\hline\n",
       "\t Bristol        & 42             &  1.189049      & 0.5170        \\\\\n",
       "\t Culpeper       & 35             &  3.597029      & 2.1690        \\\\\n",
       "\t Fredericksburg & 25             &  8.902320      & 1.8640        \\\\\n",
       "\t Hampton Roads  & 52             & 23.536212      & 2.0735        \\\\\n",
       "\t Lynchburg      & 28             &  9.429893      & 1.7990        \\\\\n",
       "\t NOVA           & 58             & 11.844241      & 3.3630        \\\\\n",
       "\t Richmond       & 72             &  7.878069      & 3.2880        \\\\\n",
       "\t Salem          & 50             & 10.706229      & 2.8460        \\\\\n",
       "\t Staunton       & 42             & 10.463905      & 2.7075        \\\\\n",
       "\\end{tabular}\n"
      ],
      "text/markdown": [
       "\n",
       "District | Num_Projects | Mean_Smart_Scale_Score | Median_Smart_Scale_Score | \n",
       "|---|---|---|---|---|---|---|---|---|\n",
       "| Bristol        | 42             |  1.189049      | 0.5170         | \n",
       "| Culpeper       | 35             |  3.597029      | 2.1690         | \n",
       "| Fredericksburg | 25             |  8.902320      | 1.8640         | \n",
       "| Hampton Roads  | 52             | 23.536212      | 2.0735         | \n",
       "| Lynchburg      | 28             |  9.429893      | 1.7990         | \n",
       "| NOVA           | 58             | 11.844241      | 3.3630         | \n",
       "| Richmond       | 72             |  7.878069      | 3.2880         | \n",
       "| Salem          | 50             | 10.706229      | 2.8460         | \n",
       "| Staunton       | 42             | 10.463905      | 2.7075         | \n",
       "\n",
       "\n"
      ],
      "text/plain": [
       "  District       Num_Projects Mean_Smart_Scale_Score Median_Smart_Scale_Score\n",
       "1 Bristol        42            1.189049              0.5170                  \n",
       "2 Culpeper       35            3.597029              2.1690                  \n",
       "3 Fredericksburg 25            8.902320              1.8640                  \n",
       "4 Hampton Roads  52           23.536212              2.0735                  \n",
       "5 Lynchburg      28            9.429893              1.7990                  \n",
       "6 NOVA           58           11.844241              3.3630                  \n",
       "7 Richmond       72            7.878069              3.2880                  \n",
       "8 Salem          50           10.706229              2.8460                  \n",
       "9 Staunton       42           10.463905              2.7075                  "
      ]
     },
     "metadata": {},
     "output_type": "display_data"
    }
   ],
   "source": [
    "dt2 <- data.frame(table(data$District))\n",
    "m2 <- data.frame(aggregate(data$SMART.SCALE.Score ~ data$District, FUN=mean))\n",
    "mm2 <- data.frame(aggregate(data$SMART.SCALE.Score ~ data$District, FUN=median))\n",
    "dt2 <- cbind(dt2, m2$data.SMART.SCALE.Score, mm2$data.SMART.SCALE.Score)\n",
    "colnames(dt2) <- c('District', 'Num_Projects', 'Mean_Smart_Scale_Score', 'Median_Smart_Scale_Score')\n",
    "dt2"
   ]
  },
  {
   "cell_type": "markdown",
   "metadata": {},
   "source": [
    "In a manner similar to above, we see the extreme high-scoring projects inflating the means. In Fig. 3 below the distribution of scores by district is shown."
   ]
  },
  {
   "cell_type": "code",
   "execution_count": 55,
   "metadata": {},
   "outputs": [
    {
     "data": {
      "image/png": "[encoded data removed]",
      "text/plain": [
       "Plot with title \"Fig. 3: Smart Scale Score Distribution by Area Type\""
      ]
     },
     "metadata": {},
     "output_type": "display_data"
    }
   ],
   "source": [
    "boxplot(SMART.SCALE.Score~District,data=data, main=\"Fig. 3: Smart Scale Score Distribution by Area Type\",\n",
    "        xlab=\"District\", ylab=\"Smart Scale Score\", ylim=c(0, 30), col=\"yellow\", cex.axis=0.4) "
   ]
  },
  {
   "cell_type": "markdown",
   "metadata": {},
   "source": [
    "In Fig. 3 the Hampton Roads district has significantly more variance than all other districts, while NOVA and Richmond have the highest overall medians scores."
   ]
  },
  {
   "cell_type": "code",
   "execution_count": null,
   "metadata": {},
   "outputs": [],
   "source": []
  }
 ],
 "metadata": {
  "kernelspec": {
   "display_name": "R",
   "language": "R",
   "name": "ir"
  },
  "language_info": {
   "codemirror_mode": "r",
   "file_extension": ".r",
   "mimetype": "text/x-r-source",
   "name": "R",
   "pygments_lexer": "r",
   "version": "3.4.3"
  }
 },
 "nbformat": 4,
 "nbformat_minor": 2
}
